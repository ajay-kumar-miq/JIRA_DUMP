{
 "cells": [
  {
   "cell_type": "code",
   "execution_count": 0,
   "metadata": {
    "application/vnd.databricks.v1+cell": {
     "cellMetadata": {
      "byteLimit": 2048000,
      "rowLimit": 10000
     },
     "inputWidgets": {},
     "nuid": "c682f53e-8ca6-4dc8-aaf3-be49870a35cf",
     "showTitle": false,
     "title": ""
    }
   },
   "outputs": [
    {
     "output_type": "stream",
     "name": "stdout",
     "output_type": "stream",
     "text": [
      "Python interpreter will be restarted.\nERROR: pip's dependency resolver does not currently take into account all the packages that are installed. This behaviour is the source of the following dependency conflicts.\nqpd 0.4.4 requires antlr4-python3-runtime<4.12,>=4.11.1, but you have antlr4-python3-runtime 4.9.3 which is incompatible.\nhttpx 0.13.3 requires idna==2.*, but you have idna 3.6 which is incompatible.\nbotocore 1.34.34 requires urllib3<1.27,>=1.25.4; python_version < \"3.10\", but you have urllib3 2.2.0 which is incompatible.\nboto3 1.21.18 requires botocore<1.25.0,>=1.24.18, but you have botocore 1.34.34 which is incompatible.\nPython interpreter will be restarted.\n"
     ]
    }
   ],
   "source": [
    "# INSTALLS\n",
    "%pip install langchain accelerate transformers ctransformers PyPDF2 pymupdf unstructured[pdf] faiss-cpu -q\n",
    "dbutils.library.restartPython()"
   ]
  },
  {
   "cell_type": "code",
   "execution_count": 0,
   "metadata": {
    "application/vnd.databricks.v1+cell": {
     "cellMetadata": {
      "byteLimit": 2048000,
      "rowLimit": 10000
     },
     "inputWidgets": {},
     "nuid": "dd0040a9-9a6c-46b4-932f-6e95d0ce4fe2",
     "showTitle": false,
     "title": ""
    }
   },
   "outputs": [],
   "source": [
    "# IMPORTS\n",
    "import os\n",
    "from langchain.llms import CTransformers\n",
    "from langchain import PromptTemplate, LLMChain\n",
    "import boto3\n",
    "from PyPDF2 import PdfReader\n",
    "from io import BytesIO\n",
    "from langchain.embeddings import HuggingFaceEmbeddings\n",
    "from langchain.vectorstores import FAISS\n",
    "from langchain.document_loaders import PyPDFLoader, PyMuPDFLoader, S3FileLoader\n",
    "from langchain.retrievers import BM25Retriever\n",
    "from langchain.text_splitter import RecursiveCharacterTextSplitter \n",
    "import pickle\n",
    "from langchain.chains import RetrievalQA"
   ]
  },
  {
   "cell_type": "code",
   "execution_count": 0,
   "metadata": {
    "application/vnd.databricks.v1+cell": {
     "cellMetadata": {
      "byteLimit": 2048000,
      "rowLimit": 10000
     },
     "inputWidgets": {},
     "nuid": "548c1510-9cef-4caa-b0a0-c13e0a4cf365",
     "showTitle": false,
     "title": ""
    }
   },
   "outputs": [],
   "source": [
    "MODEL_NAME = 'TheBloke/Mistral-7B-Instruct-v0.2-GGUF'\n",
    "MODEL_FILE_NAME = 'mistral-7b-instruct-v0.2.Q6_K.gguf'\n",
    "MODEL_FOLDER_NAME = 'models--TheBloke--Mistral-7B-Instruct-v0.2-GGUF'\n",
    "MAX_NEW_TOKENS = 1024\n",
    "CACHE_DIR = '/Workspace/Users/ajay.kumar@miqdigital.com/models'\n",
    "TEMP = 0.2\n",
    "MODEL_FILE_PATH = os.path.join(CACHE_DIR, MODEL_FOLDER_NAME)"
   ]
  },
  {
   "cell_type": "markdown",
   "metadata": {
    "application/vnd.databricks.v1+cell": {
     "cellMetadata": {},
     "inputWidgets": {},
     "nuid": "2c5c20f2-e626-4c86-a04c-a7ef9f8a24b1",
     "showTitle": false,
     "title": ""
    }
   },
   "source": [
    "### Load LLM"
   ]
  },
  {
   "cell_type": "code",
   "execution_count": 0,
   "metadata": {
    "application/vnd.databricks.v1+cell": {
     "cellMetadata": {
      "byteLimit": 2048000,
      "rowLimit": 10000
     },
     "inputWidgets": {},
     "nuid": "abc1d6b6-6776-4fcd-9291-3ae21ad75f0d",
     "showTitle": false,
     "title": ""
    }
   },
   "outputs": [
    {
     "output_type": "display_data",
     "data": {
      "application/vnd.jupyter.widget-view+json": {
       "model_id": "4bff7849109945089ec013ea390b971e",
       "version_major": 2,
       "version_minor": 0
      },
      "text/plain": [
       "Fetching 1 files:   0%|          | 0/1 [00:00<?, ?it/s]"
      ]
     },
     "metadata": {},
     "output_type": "display_data"
    },
    {
     "output_type": "display_data",
     "data": {
      "application/vnd.jupyter.widget-view+json": {
       "model_id": "605ca5625733433286ab9750f2ca2c66",
       "version_major": 2,
       "version_minor": 0
      },
      "text/plain": [
       "config.json:   0%|          | 0.00/31.0 [00:00<?, ?B/s]"
      ]
     },
     "metadata": {},
     "output_type": "display_data"
    },
    {
     "output_type": "display_data",
     "data": {
      "application/vnd.jupyter.widget-view+json": {
       "model_id": "880a8d99078f4626acc5b1153c813bd7",
       "version_major": 2,
       "version_minor": 0
      },
      "text/plain": [
       "Fetching 1 files:   0%|          | 0/1 [00:00<?, ?it/s]"
      ]
     },
     "metadata": {},
     "output_type": "display_data"
    },
    {
     "output_type": "display_data",
     "data": {
      "application/vnd.jupyter.widget-view+json": {
       "model_id": "7af2ab829afe4ea59255c0b665bac832",
       "version_major": 2,
       "version_minor": 0
      },
      "text/plain": [
       "mistral-7b-instruct-v0.2.Q6_K.gguf:   0%|          | 0.00/5.94G [00:00<?, ?B/s]"
      ]
     },
     "metadata": {},
     "output_type": "display_data"
    }
   ],
   "source": [
    "llm = CTransformers(\n",
    "        model = MODEL_NAME,\n",
    "        model_file = MODEL_FILE_NAME,\n",
    "        max_new_tokens = MAX_NEW_TOKENS,\n",
    "        temperature = TEMP\n",
    "    )"
   ]
  },
  {
   "cell_type": "markdown",
   "metadata": {
    "application/vnd.databricks.v1+cell": {
     "cellMetadata": {},
     "inputWidgets": {},
     "nuid": "fb52c182-9d5d-40a4-9b04-70edf413b9eb",
     "showTitle": false,
     "title": ""
    }
   },
   "source": [
    "### Load Data"
   ]
  },
  {
   "cell_type": "code",
   "execution_count": 0,
   "metadata": {
    "application/vnd.databricks.v1+cell": {
     "cellMetadata": {
      "byteLimit": 2048000,
      "rowLimit": 10000
     },
     "inputWidgets": {},
     "nuid": "f742d099-0406-426f-911a-863436c0664e",
     "showTitle": false,
     "title": ""
    }
   },
   "outputs": [],
   "source": [
    "bucket_name =\"prod-ai-and-automation\"\n",
    "item_name = \"proj_pptrag_jiradump_ppts/inputdocs/processed_jiradump_docformat.pdf\"\n",
    "SOURCE_DIR = \"/Workspace/Users/ajay.kumar@miqdigital.com/inputdocs/processed_jiradump.csv\""
   ]
  },
  {
   "cell_type": "code",
   "execution_count": 0,
   "metadata": {
    "application/vnd.databricks.v1+cell": {
     "cellMetadata": {
      "byteLimit": 2048000,
      "rowLimit": 10000
     },
     "inputWidgets": {},
     "nuid": "a33f02b1-80e8-470b-a826-779061221b80",
     "showTitle": false,
     "title": ""
    }
   },
   "outputs": [
    {
     "output_type": "display_data",
     "data": {
      "application/vnd.databricks.v1+bamboolib_hint": "{\"pd.DataFrames\": [], \"version\": \"0.0.1\"}",
      "text/plain": []
     },
     "metadata": {},
     "output_type": "display_data"
    }
   ],
   "source": [
    "import pandas as pd\n",
    "df = pd.read_csv(SOURCE_DIR)\n",
    "log = pd.DataFrame(columns=['Question', 'Response'])"
   ]
  },
  {
   "cell_type": "code",
   "execution_count": 0,
   "metadata": {
    "application/vnd.databricks.v1+cell": {
     "cellMetadata": {
      "byteLimit": 2048000,
      "rowLimit": 10000
     },
     "inputWidgets": {},
     "nuid": "fb5ef876-37e2-45cf-8595-9b8dd77f4da4",
     "showTitle": false,
     "title": ""
    }
   },
   "outputs": [
    {
     "output_type": "display_data",
     "data": {
      "text/html": [
       "<div>\n",
       "<style scoped>\n",
       "    .dataframe tbody tr th:only-of-type {\n",
       "        vertical-align: middle;\n",
       "    }\n",
       "\n",
       "    .dataframe tbody tr th {\n",
       "        vertical-align: top;\n",
       "    }\n",
       "\n",
       "    .dataframe thead th {\n",
       "        text-align: right;\n",
       "    }\n",
       "</style>\n",
       "<table border=\"1\" class=\"dataframe\">\n",
       "  <thead>\n",
       "    <tr style=\"text-align: right;\">\n",
       "      <th></th>\n",
       "      <th>Unnamed: 0</th>\n",
       "      <th>Issue key</th>\n",
       "      <th>Description</th>\n",
       "      <th>Module_list</th>\n",
       "      <th>SubModule_list</th>\n",
       "    </tr>\n",
       "  </thead>\n",
       "  <tbody>\n",
       "    <tr>\n",
       "      <th>0</th>\n",
       "      <td>0</td>\n",
       "      <td>CCM-5501</td>\n",
       "      <td>NaN</td>\n",
       "      <td>NaN</td>\n",
       "      <td>[{'slide_number': 1, 'slide_text': 'Cavendish ...</td>\n",
       "    </tr>\n",
       "    <tr>\n",
       "      <th>1</th>\n",
       "      <td>1</td>\n",
       "      <td>CCM-5500</td>\n",
       "      <td>NaN</td>\n",
       "      <td>NaN</td>\n",
       "      <td>[{'slide_number': 1, 'slide_text': 'ATV POST-C...</td>\n",
       "    </tr>\n",
       "    <tr>\n",
       "      <th>2</th>\n",
       "      <td>2</td>\n",
       "      <td>CCM-5427</td>\n",
       "      <td>Hi team, \\n\\nRequest you to provide us with a ...</td>\n",
       "      <td>NaN</td>\n",
       "      <td>[{'slide_number': 1, 'slide_text': 'ATV POST-C...</td>\n",
       "    </tr>\n",
       "    <tr>\n",
       "      <th>3</th>\n",
       "      <td>3</td>\n",
       "      <td>CCM-5425</td>\n",
       "      <td>Hey Team! Looking to receive the following in ...</td>\n",
       "      <td>NaN</td>\n",
       "      <td>[{'slide_number': 1, 'slide_text': 'POST - CAM...</td>\n",
       "    </tr>\n",
       "    <tr>\n",
       "      <th>4</th>\n",
       "      <td>4</td>\n",
       "      <td>CCM-5424</td>\n",
       "      <td>Hi team,\\n\\n\\nRequest you to please help us wi...</td>\n",
       "      <td>['OLV', 'CTV']</td>\n",
       "      <td>[{'slide_number': 1, 'slide_text': 'EDITABLE T...</td>\n",
       "    </tr>\n",
       "  </tbody>\n",
       "</table>\n",
       "</div>"
      ]
     },
     "metadata": {
      "application/vnd.databricks.v1+output": {
       "addedWidgets": {},
       "arguments": {},
       "data": "<div>\n<style scoped>\n    .dataframe tbody tr th:only-of-type {\n        vertical-align: middle;\n    }\n\n    .dataframe tbody tr th {\n        vertical-align: top;\n    }\n\n    .dataframe thead th {\n        text-align: right;\n    }\n</style>\n<table border=\"1\" class=\"dataframe\">\n  <thead>\n    <tr style=\"text-align: right;\">\n      <th></th>\n      <th>Unnamed: 0</th>\n      <th>Issue key</th>\n      <th>Description</th>\n      <th>Module_list</th>\n      <th>SubModule_list</th>\n    </tr>\n  </thead>\n  <tbody>\n    <tr>\n      <th>0</th>\n      <td>0</td>\n      <td>CCM-5501</td>\n      <td>NaN</td>\n      <td>NaN</td>\n      <td>[{'slide_number': 1, 'slide_text': 'Cavendish ...</td>\n    </tr>\n    <tr>\n      <th>1</th>\n      <td>1</td>\n      <td>CCM-5500</td>\n      <td>NaN</td>\n      <td>NaN</td>\n      <td>[{'slide_number': 1, 'slide_text': 'ATV POST-C...</td>\n    </tr>\n    <tr>\n      <th>2</th>\n      <td>2</td>\n      <td>CCM-5427</td>\n      <td>Hi team, \\n\\nRequest you to provide us with a ...</td>\n      <td>NaN</td>\n      <td>[{'slide_number': 1, 'slide_text': 'ATV POST-C...</td>\n    </tr>\n    <tr>\n      <th>3</th>\n      <td>3</td>\n      <td>CCM-5425</td>\n      <td>Hey Team! Looking to receive the following in ...</td>\n      <td>NaN</td>\n      <td>[{'slide_number': 1, 'slide_text': 'POST - CAM...</td>\n    </tr>\n    <tr>\n      <th>4</th>\n      <td>4</td>\n      <td>CCM-5424</td>\n      <td>Hi team,\\n\\n\\nRequest you to please help us wi...</td>\n      <td>['OLV', 'CTV']</td>\n      <td>[{'slide_number': 1, 'slide_text': 'EDITABLE T...</td>\n    </tr>\n  </tbody>\n</table>\n</div>",
       "datasetInfos": [],
       "metadata": {},
       "removedWidgets": [],
       "textData": null,
       "type": "htmlSandbox"
      }
     },
     "output_type": "display_data"
    }
   ],
   "source": [
    "df.head()"
   ]
  },
  {
   "cell_type": "markdown",
   "metadata": {
    "application/vnd.databricks.v1+cell": {
     "cellMetadata": {},
     "inputWidgets": {},
     "nuid": "4886d12c-10d0-455a-8fce-ec003890393e",
     "showTitle": false,
     "title": ""
    }
   },
   "source": [
    "### PROMPT TEMPLATE"
   ]
  },
  {
   "cell_type": "code",
   "execution_count": 0,
   "metadata": {
    "application/vnd.databricks.v1+cell": {
     "cellMetadata": {
      "byteLimit": 2048000,
      "rowLimit": 10000
     },
     "inputWidgets": {},
     "nuid": "6137d51f-88df-43d4-b0de-0ec506a9e544",
     "showTitle": false,
     "title": ""
    }
   },
   "outputs": [],
   "source": [
    "template = \"\"\"\n",
    "You are a transcriber for my documents. I will give you the requirements of an Account Manager during an ad campaign, and the deliverables of the DnA Team in the form of a PPT. Your job is to transcribe the deliverables of the team in the sequence of slides for which the \"slide_text\" are mentioned.\n",
    "\n",
    "The format of the ppt is like this : 'slide_number' and 'slide_text'.\n",
    "\n",
    "Account Manager's requirement : {requirement}\n",
    "\n",
    "PPT Deliverable : {deliverable}\n",
    "\n",
    "For each 'slide_number' please summarize the 'slide_text'\n",
    "\n",
    "\"\"\""
   ]
  },
  {
   "cell_type": "code",
   "execution_count": 0,
   "metadata": {
    "application/vnd.databricks.v1+cell": {
     "cellMetadata": {
      "byteLimit": 2048000,
      "rowLimit": 10000
     },
     "inputWidgets": {},
     "nuid": "373fb764-b75f-4798-a2ef-ce9ad7e8bd21",
     "showTitle": false,
     "title": ""
    }
   },
   "outputs": [],
   "source": [
    "prompt = PromptTemplate(template=template, input_variables=['requirement','deliverable'])\n",
    "chain = LLMChain(prompt=prompt, llm=llm)"
   ]
  },
  {
   "cell_type": "markdown",
   "metadata": {
    "application/vnd.databricks.v1+cell": {
     "cellMetadata": {},
     "inputWidgets": {},
     "nuid": "30f0d5fd-b885-46ee-83b2-b11b2ffcc82b",
     "showTitle": false,
     "title": ""
    }
   },
   "source": [
    "### Generate narration"
   ]
  },
  {
   "cell_type": "code",
   "execution_count": 0,
   "metadata": {
    "application/vnd.databricks.v1+cell": {
     "cellMetadata": {
      "byteLimit": 2048000,
      "rowLimit": 10000
     },
     "inputWidgets": {},
     "nuid": "5b9cbb89-be5b-4d9e-9f98-0b21a156229c",
     "showTitle": false,
     "title": ""
    }
   },
   "outputs": [],
   "source": [
    "start_index = 1 # Starting row number in the csv file\n",
    "end_index = 5 # Ending row number in the csv file\n",
    "\n",
    "# Create lists for the required narrations.\n",
    "manager_requests = [] \n",
    "deliverables = []\n",
    "\n",
    "for index, row in df.iloc[start_index:end_index].iterrows():\n",
    "  if pd.notna(row['Description']):\n",
    "    manager_requests.append(row[\"Description\"])\n",
    "    deliverables.append(row[\"SubModule_list\"])"
   ]
  },
  {
   "cell_type": "code",
   "execution_count": 0,
   "metadata": {
    "application/vnd.databricks.v1+cell": {
     "cellMetadata": {
      "byteLimit": 2048000,
      "rowLimit": 10000
     },
     "inputWidgets": {},
     "nuid": "f953e411-206a-4fb3-8e4b-a710e9ecc173",
     "showTitle": false,
     "title": ""
    }
   },
   "outputs": [
    {
     "output_type": "stream",
     "name": "stdout",
     "output_type": "stream",
     "text": [
      "[{'slide_number': 1, 'slide_text': 'ATV POST-CAMPAIGN INSIGHTS Maple Leaf\\xa0\\n18/09/2023 to 07/12/2023'}, {'slide_number': 2, 'slide_text': 'CTV\\nPerformance'}, {'slide_number': 3, 'slide_text': 'CAMPAIGN\\n Households reached\\n Video Completion \\nRate (VCR)\\n 976,874\\n 90,987\\n 98%\\n Advanced TV with ACR\\n Impressions\\n Performance Summary'}, {'slide_number': 4, 'slide_text': 'CTV Campaign Insights'}, {'slide_number': 5, 'slide_text': 'Incremental Reach for CTV The CTV campaign helped drive an additional 30.15%           %\\xa0\\nIncremental Reach on CTV\\n\\x0b LTV-only \\nReach CTV + LTV Overlap *\\x0b CTV Reach Only *\\x0b Shared\\n           %    63.56K 27.43K 69.85 30.15'}, {'slide_number': 6, 'slide_text': 'Potential Reach Comparison *Projected to Number of CTV HHs in Canada: 6.5M\\n**Projected to CA LTV households: 7.7M (Source: Environics)          %\\xa0\\nIncremental Reach on CTV\\n\\x0b Projected LTV-only \\nReach CTV + LTV Overlap *\\x0b CTV Reach Only *\\x0b Shared\\n           %    3.95M 4.56M 1.97M 69.85 30.15 The CTV campaign helped drive an additional 30.15%'}, {'slide_number': 7, 'slide_text': 'Insights CTV Reached Audience : Top Genre Top 5 Apps Where Impressions were served 40% 11% 7% 5% 4% Crime Comedy News Drama Adventure Documentary Reality Action Game-show 3.6%  9.8%  9.5%  8.6% 3.2%  46.2%  3.0%  2.9%  1.9%  99.1%  98.5%  96.3%  98.8%  98.7%  99.1%  96.6%  99.3%  96.4%  Drama, Comedy and News were the top 3 genres with maximum no. of impressions served between all the genres. \\n\\n\\nHappy Kids TV and Pluto TV are the top 2 apps where impressions have been delivered'}, {'slide_number': 8, 'slide_text': 'Career 20.5% of users are in  Occupations In Sales And Service Education 22% of users have a College, CEGEP Or Other Non-University Certificate Or Diploma Age 12.3% of the users are between 30 To 34 years of age Gender 50.4% of users are Females Your TV Audience profile Audience demographics of users targeted by Maple Leaf’s TV ads *Based on Environics Analytics     Career 21.0% of users are in Occupations In Sales And Service Education 24.4% of users have a College, CEGEP Or Other Non-University Certificate Or Diploma Age 12.1% of the users are between 60 To 64 years of age Gender 50.4% of users are Females Linear TV Connected TV'}, {'slide_number': 9, 'slide_text': 'Source – Environics Audience Insights: Linear TV vs Connected TV'}, {'slide_number': 10, 'slide_text': 'Analyst to update Brand’s CTV Viewers’ Geographical Trends Geo Distribution of audience who were reached through brand’s Connected TV ads North York (1.65%) Toronto (2.21%) Laval (1.13%) Montreal (3.94%) Surrey (0.59%)  Vancouver (1.01%) Calgary (2.78%) Edmonton (2.16%) Top Cities: Ontario (32.1%) Top Cities: Quebec (22.4%) Top Cities: British Columbia (7.7%) Top Cities : Alberta(5.6%) City Wise Distribution Region Wise Distribution  The highest share of impressions was served in Ontario, closely followed by Quebec. Noteworthy cities for impression delivery include Montreal, Calgary, and Toronto.'}, {'slide_number': 11, 'slide_text': 'OLV\\nPerformance'}, {'slide_number': 12, 'slide_text': 'IMPRESSIONS\\n  1,757,585  Completed Views\\n 1,434,338  VCR %\\n81.6%  Performance Overview'}, {'slide_number': 13, 'slide_text': 'Highest share of impressions were served on Afternoon (12PM – 3PM) with a VCR of 80.9%\\n Highest share of impressions was served on Fridays whereas best VCR was observed on weekends (82.6%) Temporal Analysis – VCR'}, {'slide_number': 14, 'slide_text': '14 Highest share of impressions were served on Ontario with a VCR of 81.1% Highest share of impressions were served in Toronto with a  VCR of 80.3%\\n  Geo – VCR'}, {'slide_number': 15, 'slide_text': '15 Highest share of impressions were served on Mobile, While Desktop recorded highest VCR of 82.9% Device – VCR'}, {'slide_number': 16, 'slide_text': 'Campaign Performance Just Getting By: Just Getting By is home to younger, low-income singles and single-parent families located in large cities. The young singles and families in Just Getting By pursue a youthful lifestyle on a budget. Their wide-ranging leisure activities include billiards and bowling, motorcycling and going to nightclubs. Nearly    everyone in this segment shops at discount grocery, clothing and department stores; Walmart is a particular favorite. While dinner at a fancy restaurant. They enjoy reading entertainment and celebrity Magazine. Family Mode: Comprising more than a million people, Family Mode is one of the largest segments—and growing. The members of Family Mode straddle two worlds: close enough to downtown for their work but far enough away to enjoy outdoorsy activities. These families like golfing, gardening, camping and power boating. Their idea of a vacation is to pack up the RV or camper and hit the road to one of Canada’s parks, relax at a beach or ski resort  Age: Almost 24.5% of the users are between the age group of  25-29  Gender: Majority of these users are Females (55.6%)  Education: 32.2% of users have University Certificate, Diploma or Degree Above Bachelor Level  Career: 18.7% of users are in Occupations In Unique to Primary Industries Multicultural Corners : The middle-aged families of Multicultural Corners create an exceptionally diverse portrait. More than a third of households contain foreign-born residents. The multi-generational households of Multicultural Corners do many activities as a family. They engage in a lot of aerobic sports—swimming, skiing and tennis—as well as team sports like baseball, basketball and soccer. Mobile phones are their digital platform of choice, and they’re receptive to texted marketing messages. They also respond to out-of-home advertising placed in movie theatres. Audience Insights'}, {'slide_number': 17, 'slide_text': 'Thank You!'}]\n"
     ]
    }
   ],
   "source": [
    "# Iterate through the list and prompt the LLM to generate narration for 2 slides at a time.\n",
    "\n",
    "for i in range(len(manager_requests)):\n",
    "  d = deliverables[i]\n",
    "  req = manager_requests[i]\n",
    "  res = ''\n",
    "  for j in range(0,len(d)-3, 2):\n",
    "    response = chain.invoke({'requirement': req, 'deliverable': d[j:j+2]})\n",
    "    res += response['text']\n",
    "  new_log={'Question':f'{req}', 'Response': f'{res}'} \n",
    "  log.loc[len(log)] = new_log"
   ]
  },
  {
   "cell_type": "code",
   "execution_count": 0,
   "metadata": {
    "application/vnd.databricks.v1+cell": {
     "cellMetadata": {
      "byteLimit": 2048000,
      "rowLimit": 10000
     },
     "inputWidgets": {},
     "nuid": "d8069a58-77fa-44d0-8c16-16ade95fb140",
     "showTitle": false,
     "title": ""
    }
   },
   "outputs": [
    {
     "output_type": "display_data",
     "data": {
      "text/html": [
       "<div>\n",
       "<style scoped>\n",
       "    .dataframe tbody tr th:only-of-type {\n",
       "        vertical-align: middle;\n",
       "    }\n",
       "\n",
       "    .dataframe tbody tr th {\n",
       "        vertical-align: top;\n",
       "    }\n",
       "\n",
       "    .dataframe thead th {\n",
       "        text-align: right;\n",
       "    }\n",
       "</style>\n",
       "<table border=\"1\" class=\"dataframe\">\n",
       "  <thead>\n",
       "    <tr style=\"text-align: right;\">\n",
       "      <th></th>\n",
       "      <th>Question</th>\n",
       "      <th>Response</th>\n",
       "    </tr>\n",
       "  </thead>\n",
       "  <tbody>\n",
       "    <tr>\n",
       "      <th>0</th>\n",
       "      <td>Request you to provide us with a FSA list of p...</td>\n",
       "      <td>Slide 1 : Maple Leaf post-campaign insights fo...</td>\n",
       "    </tr>\n",
       "    <tr>\n",
       "      <th>1</th>\n",
       "      <td>['Looking to receive the following in the Post...</td>\n",
       "      <td>Slide 1: The first slide of the PPT report is ...</td>\n",
       "    </tr>\n",
       "  </tbody>\n",
       "</table>\n",
       "</div>"
      ]
     },
     "metadata": {
      "application/vnd.databricks.v1+output": {
       "addedWidgets": {},
       "arguments": {},
       "data": "<div>\n<style scoped>\n    .dataframe tbody tr th:only-of-type {\n        vertical-align: middle;\n    }\n\n    .dataframe tbody tr th {\n        vertical-align: top;\n    }\n\n    .dataframe thead th {\n        text-align: right;\n    }\n</style>\n<table border=\"1\" class=\"dataframe\">\n  <thead>\n    <tr style=\"text-align: right;\">\n      <th></th>\n      <th>Question</th>\n      <th>Response</th>\n    </tr>\n  </thead>\n  <tbody>\n    <tr>\n      <th>0</th>\n      <td>Request you to provide us with a FSA list of p...</td>\n      <td>Slide 1 : Maple Leaf post-campaign insights fo...</td>\n    </tr>\n    <tr>\n      <th>1</th>\n      <td>['Looking to receive the following in the Post...</td>\n      <td>Slide 1: The first slide of the PPT report is ...</td>\n    </tr>\n  </tbody>\n</table>\n</div>",
       "datasetInfos": [],
       "metadata": {},
       "removedWidgets": [],
       "textData": null,
       "type": "htmlSandbox"
      }
     },
     "output_type": "display_data"
    }
   ],
   "source": [
    "log.head()"
   ]
  },
  {
   "cell_type": "code",
   "execution_count": 0,
   "metadata": {
    "application/vnd.databricks.v1+cell": {
     "cellMetadata": {
      "byteLimit": 2048000,
      "rowLimit": 10000
     },
     "inputWidgets": {},
     "nuid": "43603110-0c33-44ea-a0f4-607e74982d01",
     "showTitle": false,
     "title": ""
    }
   },
   "outputs": [],
   "source": [
    "# Save the responses to a csv file\n",
    "log.to_csv('/Workspace/Users/ajay.kumar@miqdigital.com/logs/jira_log3.csv', index=False)"
   ]
  },
  {
   "cell_type": "code",
   "execution_count": 0,
   "metadata": {
    "application/vnd.databricks.v1+cell": {
     "cellMetadata": {},
     "inputWidgets": {},
     "nuid": "02153d2f-d8b4-403f-b4b9-d46c935bb573",
     "showTitle": false,
     "title": ""
    }
   },
   "outputs": [],
   "source": []
  }
 ],
 "metadata": {
  "application/vnd.databricks.v1+notebook": {
   "dashboards": [],
   "language": "python",
   "notebookMetadata": {
    "pythonIndentUnit": 2
   },
   "notebookName": "JIRA_DUMP_PROMPT_v2",
   "widgets": {}
  }
 },
 "nbformat": 4,
 "nbformat_minor": 0
}
