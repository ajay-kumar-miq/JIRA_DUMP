{
 "cells": [
  {
   "cell_type": "code",
   "execution_count": 0,
   "metadata": {
    "application/vnd.databricks.v1+cell": {
     "cellMetadata": {
      "byteLimit": 2048000,
      "rowLimit": 10000
     },
     "inputWidgets": {},
     "nuid": "bb5e7a43-e166-449f-8504-dde64323a179",
     "showTitle": false,
     "title": ""
    }
   },
   "outputs": [
    {
     "output_type": "stream",
     "name": "stdout",
     "output_type": "stream",
     "text": [
      "Python interpreter will be restarted.\nERROR: pip's dependency resolver does not currently take into account all the packages that are installed. This behaviour is the source of the following dependency conflicts.\nqpd 0.4.4 requires antlr4-python3-runtime<4.12,>=4.11.1, but you have antlr4-python3-runtime 4.9.3 which is incompatible.\nhttpx 0.13.3 requires idna==2.*, but you have idna 3.6 which is incompatible.\nbotocore 1.34.34 requires urllib3<1.27,>=1.25.4; python_version < \"3.10\", but you have urllib3 2.2.0 which is incompatible.\nboto3 1.21.18 requires botocore<1.25.0,>=1.24.18, but you have botocore 1.34.34 which is incompatible.\nPython interpreter will be restarted.\n"
     ]
    }
   ],
   "source": [
    "# INSTALLS\n",
    "%pip install langchain accelerate transformers ctransformers PyPDF2 pymupdf unstructured[pdf] faiss-cpu -q\n",
    "dbutils.library.restartPython()"
   ]
  },
  {
   "cell_type": "code",
   "execution_count": 0,
   "metadata": {
    "application/vnd.databricks.v1+cell": {
     "cellMetadata": {
      "byteLimit": 2048000,
      "rowLimit": 10000
     },
     "inputWidgets": {},
     "nuid": "e0b0f1fb-c375-4296-88c9-92c29e1ee76c",
     "showTitle": false,
     "title": ""
    }
   },
   "outputs": [],
   "source": [
    "# IMPORTS\n",
    "import os\n",
    "from langchain.llms import CTransformers\n",
    "from langchain import PromptTemplate, LLMChain\n",
    "import boto3\n",
    "from PyPDF2 import PdfReader\n",
    "from io import BytesIO\n",
    "from langchain.embeddings import HuggingFaceEmbeddings\n",
    "from langchain.vectorstores import FAISS\n",
    "from langchain.document_loaders import PyPDFLoader, PyMuPDFLoader, S3FileLoader\n",
    "from langchain.retrievers import BM25Retriever\n",
    "from langchain.text_splitter import RecursiveCharacterTextSplitter \n",
    "import pickle\n",
    "from langchain.chains import RetrievalQA"
   ]
  },
  {
   "cell_type": "code",
   "execution_count": 0,
   "metadata": {
    "application/vnd.databricks.v1+cell": {
     "cellMetadata": {
      "byteLimit": 2048000,
      "rowLimit": 10000
     },
     "inputWidgets": {},
     "nuid": "afebe74a-7736-4059-892c-5ce125d1353f",
     "showTitle": false,
     "title": ""
    }
   },
   "outputs": [],
   "source": [
    "# VARIABLES\n",
    "\n",
    "MODEL_NAME = 'TheBloke/Mistral-7B-Instruct-v0.2-GGUF'\n",
    "MODEL_FILE_NAME = 'mistral-7b-instruct-v0.2.Q6_K.gguf'\n",
    "MODEL_FOLDER_NAME = 'models--TheBloke--Mistral-7B-Instruct-v0.2-GGUF'\n",
    "MAX_NEW_TOKENS = 1024\n",
    "CACHE_DIR = '/Workspace/Users/ajay.kumar@miqdigital.com/models'\n",
    "TEMP = 0.2\n",
    "MODEL_FILE_PATH = os.path.join(CACHE_DIR, MODEL_FOLDER_NAME)"
   ]
  },
  {
   "cell_type": "code",
   "execution_count": 0,
   "metadata": {
    "application/vnd.databricks.v1+cell": {
     "cellMetadata": {},
     "inputWidgets": {},
     "nuid": "02b31e30-ea2c-400b-b304-27659f3ed3af",
     "showTitle": false,
     "title": ""
    }
   },
   "outputs": [],
   "source": [
    "# COMMANDS TO MOVE THE FOLDER FROM CACHE DIRECTORY TO MODELS DIRECTORY\n",
    "\n",
    "# import subprocess\n",
    "# subprocess.run(['rsync', '-r', '~/.cache/huggingface/hub/models--TheBloke--Mistral-7B-Instruct-v0.2-GGUF', '/Workspace/Users/ajay.kumar@miqdigital.com/models'])"
   ]
  },
  {
   "cell_type": "code",
   "execution_count": 0,
   "metadata": {
    "application/vnd.databricks.v1+cell": {
     "cellMetadata": {
      "byteLimit": 2048000,
      "rowLimit": 10000
     },
     "inputWidgets": {},
     "nuid": "08fa1128-362b-403d-93c8-799da2d23078",
     "showTitle": false,
     "title": ""
    }
   },
   "outputs": [
    {
     "output_type": "display_data",
     "data": {
      "application/vnd.jupyter.widget-view+json": {
       "model_id": "ef8263d23491483490a17169693739e7",
       "version_major": 2,
       "version_minor": 0
      },
      "text/plain": [
       "Fetching 1 files:   0%|          | 0/1 [00:00<?, ?it/s]"
      ]
     },
     "metadata": {},
     "output_type": "display_data"
    },
    {
     "output_type": "display_data",
     "data": {
      "application/vnd.jupyter.widget-view+json": {
       "model_id": "2eb214a8e3cb4c839627b1db77a48578",
       "version_major": 2,
       "version_minor": 0
      },
      "text/plain": [
       "Fetching 1 files:   0%|          | 0/1 [00:00<?, ?it/s]"
      ]
     },
     "metadata": {},
     "output_type": "display_data"
    }
   ],
   "source": [
    "llm = CTransformers(\n",
    "        model = MODEL_NAME,\n",
    "        model_file = MODEL_FILE_NAME,\n",
    "        max_new_tokens = MAX_NEW_TOKENS,\n",
    "        temperature = TEMP\n",
    "    )"
   ]
  },
  {
   "cell_type": "code",
   "execution_count": 0,
   "metadata": {
    "application/vnd.databricks.v1+cell": {
     "cellMetadata": {
      "byteLimit": 2048000,
      "rowLimit": 10000
     },
     "inputWidgets": {},
     "nuid": "90a0ee1c-a990-48eb-836a-00a62717ed6b",
     "showTitle": false,
     "title": ""
    }
   },
   "outputs": [],
   "source": [
    "# READ PDF FROM THE BUCKET OR LOCAL FILE DIR\n",
    "bucket_name =\"prod-ai-and-automation\"\n",
    "item_name = \"proj_pptrag_jiradump_ppts/inputdocs/processed_jiradump_docformat.pdf\"\n",
    "SOURCE_DIR = \"/Workspace/Users/ajay.kumar@miqdigital.com/inputdocs/processed_jiradump_docformat.pdf\""
   ]
  },
  {
   "cell_type": "code",
   "execution_count": 0,
   "metadata": {
    "application/vnd.databricks.v1+cell": {
     "cellMetadata": {
      "byteLimit": 2048000,
      "rowLimit": 10000
     },
     "inputWidgets": {},
     "nuid": "53787508-f526-4e41-aecc-916048c02a83",
     "showTitle": false,
     "title": ""
    }
   },
   "outputs": [],
   "source": [
    "# FUNCTION TO CREATE A PERSIST FAISS VECTOR DB\n",
    "\n",
    "def create_vector_db(SOURCE_DIR):\n",
    "    loader = PyPDFLoader(SOURCE_DIR)\n",
    "    document = loader.load()\n",
    "    CHUNK_SIZE = 1024\n",
    "    CHUNK_OVERLAP = 200\n",
    "    EMBEDDER = \"BAAI/bge-base-en-v1.5\"\n",
    "    FAISS_PATH = \"/Workspace/Users/ajay.kumar@miqdigital.com/vector_dbs/FAISS_RAG\"\n",
    "\n",
    "    text_splitter = RecursiveCharacterTextSplitter(chunk_size=CHUNK_SIZE,\n",
    "                                                   chunk_overlap=CHUNK_OVERLAP)\n",
    "    texts = text_splitter.split_documents(document)\n",
    "\n",
    "    embeddings = HuggingFaceEmbeddings(model_name=EMBEDDER,\n",
    "                                       model_kwargs={'device': 'cpu'})\n",
    "\n",
    "    db = FAISS.from_documents(texts, embeddings)\n",
    "    db.save_local(FAISS_PATH)\n"
   ]
  },
  {
   "cell_type": "code",
   "execution_count": 0,
   "metadata": {
    "application/vnd.databricks.v1+cell": {
     "cellMetadata": {
      "byteLimit": 2048000,
      "rowLimit": 10000
     },
     "inputWidgets": {},
     "nuid": "3fed628b-a3ed-46e2-b362-ebcb906a67ae",
     "showTitle": false,
     "title": ""
    }
   },
   "outputs": [],
   "source": [
    "# REQUIRED ONLY FIRST TIME (DATA INGESTION)\n",
    "\n",
    "# create_vector_db(SOURCE_DIR)"
   ]
  },
  {
   "cell_type": "code",
   "execution_count": 0,
   "metadata": {
    "application/vnd.databricks.v1+cell": {
     "cellMetadata": {
      "byteLimit": 2048000,
      "rowLimit": 10000
     },
     "inputWidgets": {},
     "nuid": "5c378c14-413a-4206-bd89-30f2d8ec6138",
     "showTitle": false,
     "title": ""
    }
   },
   "outputs": [],
   "source": [
    "PROMPT_TEMPLATE = '''\n",
    "You are analysing a document. The document has \"User Request\" and \"Response\". The \"Response\" consists of information regarding slide numbers and their resepctive contents. Your job is to tell me the slide numbers and the contents \"Response\" in the document, based on the request that I ask you. If you don't know the answer, just say \"I don't know the answer.\"\n",
    "DO NOT make up answers that are not based on facts. Explain with detailed answers that are easy to understand.\n",
    "Context: {context}\n",
    "Question: {question}\n",
    "Only return the useful aspects of the answer below and nothing else.\n",
    "Helpful answer:\n",
    "'''\n",
    "EMBEDDER = \"BAAI/bge-base-en-v1.5\"\n",
    "embeddings = HuggingFaceEmbeddings(model_name=EMBEDDER,\n",
    "                                       model_kwargs={'device': 'cpu'})\n",
    "FAISS_PATH = \"/Workspace/Users/ajay.kumar@miqdigital.com/vector_dbs/FAISS_RAG\"\n",
    "INP_VARS = ['context', 'question']\n",
    "CHAIN_TYPE = \"stuff\"\n",
    "SEARCH_KWARGS = {'k': 4}\n",
    "MAX_NEW_TOKENS = 100\n"
   ]
  },
  {
   "cell_type": "code",
   "execution_count": 0,
   "metadata": {
    "application/vnd.databricks.v1+cell": {
     "cellMetadata": {
      "byteLimit": 2048000,
      "rowLimit": 10000
     },
     "inputWidgets": {},
     "nuid": "f71ce33d-cdc5-4e90-908c-7b638f7702f5",
     "showTitle": false,
     "title": ""
    }
   },
   "outputs": [],
   "source": [
    "faiss_vectorstore = FAISS.load_local(FAISS_PATH, embeddings)\n",
    "faiss_retriever = faiss_vectorstore.as_retriever(search_kwargs=SEARCH_KWARGS)\n",
    "\n",
    "custom_prompt_temp = PromptTemplate(template=PROMPT_TEMPLATE,input_variables=INP_VARS)\n",
    "\n",
    "qa_chain = RetrievalQA.from_chain_type(\n",
    "    llm = llm,\n",
    "    retriever=faiss_retriever,\n",
    "    return_source_documents=True,\n",
    "    chain_type='stuff',\n",
    "    verbose = True,\n",
    "    chain_type_kwargs={\"prompt\": custom_prompt_temp}\n",
    ")"
   ]
  },
  {
   "cell_type": "code",
   "execution_count": 0,
   "metadata": {
    "application/vnd.databricks.v1+cell": {
     "cellMetadata": {
      "byteLimit": 2048000,
      "rowLimit": 10000
     },
     "inputWidgets": {},
     "nuid": "5e5cbda6-3e92-4c2e-9cd5-e39676d6ae6d",
     "showTitle": false,
     "title": ""
    }
   },
   "outputs": [],
   "source": [
    "query = \"Request you to provide us with a FSA list of people overexposed/underexposed against ads from government of Quebec\"\n",
    "docs = faiss_vectorstore.similarity_search(query)"
   ]
  },
  {
   "cell_type": "code",
   "execution_count": 0,
   "metadata": {
    "application/vnd.databricks.v1+cell": {
     "cellMetadata": {
      "byteLimit": 2048000,
      "rowLimit": 10000
     },
     "inputWidgets": {},
     "nuid": "02e84651-942b-4347-99cc-101dcf67104b",
     "showTitle": false,
     "title": ""
    }
   },
   "outputs": [
    {
     "output_type": "stream",
     "name": "stdout",
     "output_type": "stream",
     "text": [
      "User Request Hi\tteam,\t\t\tRequest\tyou\tto\tprovide\tus\twith\ta\tFSA\tlist\tof\tpeople\toverexposed/underexposed\tagainst\tads\tfrom\tgovernment\tof\tQuebec?\t\t\tResponse • slide_number:1\t• slide_text:ATV\tPOST-CAMPAIGN\tINSIGHTS\tMaple\tLeaf\t18/09/2023\tto\t07/12/2023\t• slide_number:2\t• slide_text:CTV\tPerformance\t• slide_number:3\t• slide_text:CAMPAIGN\t\tHouseholds\treached\t\tVideo\tCompletion\t\tRate\t(VCR)\t\t976,874\t\t90,987\t\t98%\t\tAdvanced\tTV\twith\tACR\t\tImpressions\t\tPerformance\tSummary\t• slide_number:4\t• slide_text:CTV\tCampaign\tInsights\t• slide_number:5\t• slide_text:Incremental\tReach\tfor\tCTV\tThe\tCTV\tcampaign\thelped\tdrive\tan\tadditional\t30.15%\t\t\t\t\t\t\t\t\t\t\t%\tIncremental\tReach\ton\tCTV\t\tLTV-only\t\tReach\tCTV\t+\tLTV\tOverlap\t*\tCTV\tReach\tOnly\t*\tShared\t\t\t\t\t\t\t\t\t\t\t\t%\t\t\t\t63.56K\t27.43K\t69.85\t30.15\n"
     ]
    }
   ],
   "source": [
    "print(docs[0].page_content)"
   ]
  },
  {
   "cell_type": "code",
   "execution_count": 0,
   "metadata": {
    "application/vnd.databricks.v1+cell": {
     "cellMetadata": {
      "byteLimit": 2048000,
      "rowLimit": 10000
     },
     "inputWidgets": {},
     "nuid": "521137ed-e549-4d27-af2e-f60aadf48b1c",
     "showTitle": false,
     "title": ""
    }
   },
   "outputs": [
    {
     "output_type": "stream",
     "name": "stdout",
     "output_type": "stream",
     "text": [
      "WARNING:ctransformers:Number of tokens (1734) exceeded maximum context length (512).\n\n\n\u001B[1m> Entering new RetrievalQA chain...\u001B[0m\nWARNING:ctransformers:Number of tokens (1735) exceeded maximum context length (512).\nWARNING:ctransformers:Number of tokens (1736) exceeded maximum context length (512).\nWARNING:ctransformers:Number of tokens (1737) exceeded maximum context length (512).\nWARNING:ctransformers:Number of tokens (1738) exceeded maximum context length (512).\nWARNING:ctransformers:Number of tokens (1739) exceeded maximum context length (512).\nWARNING:ctransformers:Number of tokens (1740) exceeded maximum context length (512).\nWARNING:ctransformers:Number of tokens (1741) exceeded maximum context length (512).\nWARNING:ctransformers:Number of tokens (1742) exceeded maximum context length (512).\nWARNING:ctransformers:Number of tokens (1743) exceeded maximum context length (512).\nWARNING:ctransformers:Number of tokens (1744) exceeded maximum context length (512).\nWARNING:ctransformers:Number of tokens (1745) exceeded maximum context length (512).\nWARNING:ctransformers:Number of tokens (1746) exceeded maximum context length (512).\nWARNING:ctransformers:Number of tokens (1747) exceeded maximum context length (512).\nWARNING:ctransformers:Number of tokens (1748) exceeded maximum context length (512).\nWARNING:ctransformers:Number of tokens (1749) exceeded maximum context length (512).\nWARNING:ctransformers:Number of tokens (1750) exceeded maximum context length (512).\nWARNING:ctransformers:Number of tokens (1751) exceeded maximum context length (512).\nWARNING:ctransformers:Number of tokens (1752) exceeded maximum context length (512).\nWARNING:ctransformers:Number of tokens (1753) exceeded maximum context length (512).\nWARNING:ctransformers:Number of tokens (1754) exceeded maximum context length (512).\nWARNING:ctransformers:Number of tokens (1755) exceeded maximum context length (512).\nWARNING:ctransformers:Number of tokens (1756) exceeded maximum context length (512).\nWARNING:ctransformers:Number of tokens (1757) exceeded maximum context length (512).\nWARNING:ctransformers:Number of tokens (1758) exceeded maximum context length (512).\nWARNING:ctransformers:Number of tokens (1759) exceeded maximum context length (512).\nWARNING:ctransformers:Number of tokens (1760) exceeded maximum context length (512).\nWARNING:ctransformers:Number of tokens (1761) exceeded maximum context length (512).\nWARNING:ctransformers:Number of tokens (1762) exceeded maximum context length (512).\nWARNING:ctransformers:Number of tokens (1763) exceeded maximum context length (512).\nWARNING:ctransformers:Number of tokens (1764) exceeded maximum context length (512).\nWARNING:ctransformers:Number of tokens (1765) exceeded maximum context length (512).\nWARNING:ctransformers:Number of tokens (1766) exceeded maximum context length (512).\nWARNING:ctransformers:Number of tokens (1767) exceeded maximum context length (512).\nWARNING:ctransformers:Number of tokens (1768) exceeded maximum context length (512).\nWARNING:ctransformers:Number of tokens (1769) exceeded maximum context length (512).\nWARNING:ctransformers:Number of tokens (1770) exceeded maximum context length (512).\nWARNING:ctransformers:Number of tokens (1771) exceeded maximum context length (512).\nWARNING:ctransformers:Number of tokens (1772) exceeded maximum context length (512).\nWARNING:ctransformers:Number of tokens (1773) exceeded maximum context length (512).\nWARNING:ctransformers:Number of tokens (1774) exceeded maximum context length (512).\nWARNING:ctransformers:Number of tokens (1775) exceeded maximum context length (512).\nWARNING:ctransformers:Number of tokens (1776) exceeded maximum context length (512).\nWARNING:ctransformers:Number of tokens (1777) exceeded maximum context length (512).\nWARNING:ctransformers:Number of tokens (1778) exceeded maximum context length (512).\nWARNING:ctransformers:Number of tokens (1779) exceeded maximum context length (512).\nWARNING:ctransformers:Number of tokens (1780) exceeded maximum context length (512).\nWARNING:ctransformers:Number of tokens (1781) exceeded maximum context length (512).\nWARNING:ctransformers:Number of tokens (1782) exceeded maximum context length (512).\nWARNING:ctransformers:Number of tokens (1783) exceeded maximum context length (512).\nWARNING:ctransformers:Number of tokens (1784) exceeded maximum context length (512).\nWARNING:ctransformers:Number of tokens (1785) exceeded maximum context length (512).\nWARNING:ctransformers:Number of tokens (1786) exceeded maximum context length (512).\nWARNING:ctransformers:Number of tokens (1787) exceeded maximum context length (512).\nWARNING:ctransformers:Number of tokens (1788) exceeded maximum context length (512).\nWARNING:ctransformers:Number of tokens (1789) exceeded maximum context length (512).\nWARNING:ctransformers:Number of tokens (1790) exceeded maximum context length (512).\nWARNING:ctransformers:Number of tokens (1791) exceeded maximum context length (512).\nWARNING:ctransformers:Number of tokens (1792) exceeded maximum context length (512).\nWARNING:ctransformers:Number of tokens (1793) exceeded maximum context length (512).\nWARNING:ctransformers:Number of tokens (1794) exceeded maximum context length (512).\nWARNING:ctransformers:Number of tokens (1795) exceeded maximum context length (512).\nWARNING:ctransformers:Number of tokens (1796) exceeded maximum context length (512).\nWARNING:ctransformers:Number of tokens (1797) exceeded maximum context length (512).\nWARNING:ctransformers:Number of tokens (1798) exceeded maximum context length (512).\nWARNING:ctransformers:Number of tokens (1799) exceeded maximum context length (512).\nWARNING:ctransformers:Number of tokens (1800) exceeded maximum context length (512).\nWARNING:ctransformers:Number of tokens (1801) exceeded maximum context length (512).\nWARNING:ctransformers:Number of tokens (1802) exceeded maximum context length (512).\nWARNING:ctransformers:Number of tokens (1803) exceeded maximum context length (512).\nWARNING:ctransformers:Number of tokens (1804) exceeded maximum context length (512).\nWARNING:ctransformers:Number of tokens (1805) exceeded maximum context length (512).\nWARNING:ctransformers:Number of tokens (1806) exceeded maximum context length (512).\nWARNING:ctransformers:Number of tokens (1807) exceeded maximum context length (512).\nWARNING:ctransformers:Number of tokens (1808) exceeded maximum context length (512).\nWARNING:ctransformers:Number of tokens (1809) exceeded maximum context length (512).\nWARNING:ctransformers:Number of tokens (1810) exceeded maximum context length (512).\nWARNING:ctransformers:Number of tokens (1811) exceeded maximum context length (512).\nWARNING:ctransformers:Number of tokens (1812) exceeded maximum context length (512).\nWARNING:ctransformers:Number of tokens (1813) exceeded maximum context length (512).\nWARNING:ctransformers:Number of tokens (1814) exceeded maximum context length (512).\nWARNING:ctransformers:Number of tokens (1815) exceeded maximum context length (512).\nWARNING:ctransformers:Number of tokens (1816) exceeded maximum context length (512).\nWARNING:ctransformers:Number of tokens (1817) exceeded maximum context length (512).\nWARNING:ctransformers:Number of tokens (1818) exceeded maximum context length (512).\nWARNING:ctransformers:Number of tokens (1819) exceeded maximum context length (512).\nWARNING:ctransformers:Number of tokens (1820) exceeded maximum context length (512).\nWARNING:ctransformers:Number of tokens (1821) exceeded maximum context length (512).\nWARNING:ctransformers:Number of tokens (1822) exceeded maximum context length (512).\nWARNING:ctransformers:Number of tokens (1823) exceeded maximum context length (512).\nWARNING:ctransformers:Number of tokens (1824) exceeded maximum context length (512).\nWARNING:ctransformers:Number of tokens (1825) exceeded maximum context length (512).\nWARNING:ctransformers:Number of tokens (1826) exceeded maximum context length (512).\nWARNING:ctransformers:Number of tokens (1827) exceeded maximum context length (512).\nWARNING:ctransformers:Number of tokens (1828) exceeded maximum context length (512).\nWARNING:ctransformers:Number of tokens (1829) exceeded maximum context length (512).\nWARNING:ctransformers:Number of tokens (1830) exceeded maximum context length (512).\nWARNING:ctransformers:Number of tokens (1831) exceeded maximum context length (512).\nWARNING:ctransformers:Number of tokens (1832) exceeded maximum context length (512).\nWARNING:ctransformers:Number of tokens (1833) exceeded maximum context length (512).\nWARNING:ctransformers:Number of tokens (1834) exceeded maximum context length (512).\nWARNING:ctransformers:Number of tokens (1835) exceeded maximum context length (512).\nWARNING:ctransformers:Number of tokens (1836) exceeded maximum context length (512).\nWARNING:ctransformers:Number of tokens (1837) exceeded maximum context length (512).\nWARNING:ctransformers:Number of tokens (1838) exceeded maximum context length (512).\nWARNING:ctransformers:Number of tokens (1839) exceeded maximum context length (512).\nWARNING:ctransformers:Number of tokens (1840) exceeded maximum context length (512).\nWARNING:ctransformers:Number of tokens (1841) exceeded maximum context length (512).\nWARNING:ctransformers:Number of tokens (1842) exceeded maximum context length (512).\nWARNING:ctransformers:Number of tokens (1843) exceeded maximum context length (512).\nWARNING:ctransformers:Number of tokens (1844) exceeded maximum context length (512).\nWARNING:ctransformers:Number of tokens (1845) exceeded maximum context length (512).\nWARNING:ctransformers:Number of tokens (1846) exceeded maximum context length (512).\nWARNING:ctransformers:Number of tokens (1847) exceeded maximum context length (512).\nWARNING:ctransformers:Number of tokens (1848) exceeded maximum context length (512).\nWARNING:ctransformers:Number of tokens (1849) exceeded maximum context length (512).\nWARNING:ctransformers:Number of tokens (1850) exceeded maximum context length (512).\nWARNING:ctransformers:Number of tokens (1851) exceeded maximum context length (512).\nWARNING:ctransformers:Number of tokens (1852) exceeded maximum context length (512).\nWARNING:ctransformers:Number of tokens (1853) exceeded maximum context length (512).\nWARNING:ctransformers:Number of tokens (1854) exceeded maximum context length (512).\nWARNING:ctransformers:Number of tokens (1855) exceeded maximum context length (512).\nWARNING:ctransformers:Number of tokens (1856) exceeded maximum context length (512).\nWARNING:ctransformers:Number of tokens (1857) exceeded maximum context length (512).\nWARNING:ctransformers:Number of tokens (1858) exceeded maximum context length (512).\nWARNING:ctransformers:Number of tokens (1859) exceeded maximum context length (512).\nWARNING:ctransformers:Number of tokens (1860) exceeded maximum context length (512).\nWARNING:ctransformers:Number of tokens (1861) exceeded maximum context length (512).\nWARNING:ctransformers:Number of tokens (1862) exceeded maximum context length (512).\nWARNING:ctransformers:Number of tokens (1863) exceeded maximum context length (512).\nWARNING:ctransformers:Number of tokens (1864) exceeded maximum context length (512).\nWARNING:ctransformers:Number of tokens (1865) exceeded maximum context length (512).\nWARNING:ctransformers:Number of tokens (1866) exceeded maximum context length (512).\nWARNING:ctransformers:Number of tokens (1867) exceeded maximum context length (512).\nWARNING:ctransformers:Number of tokens (1868) exceeded maximum context length (512).\nWARNING:ctransformers:Number of tokens (1869) exceeded maximum context length (512).\nWARNING:ctransformers:Number of tokens (1870) exceeded maximum context length (512).\nWARNING:ctransformers:Number of tokens (1871) exceeded maximum context length (512).\nWARNING:ctransformers:Number of tokens (1872) exceeded maximum context length (512).\nWARNING:ctransformers:Number of tokens (1873) exceeded maximum context length (512).\nWARNING:ctransformers:Number of tokens (1874) exceeded maximum context length (512).\nWARNING:ctransformers:Number of tokens (1875) exceeded maximum context length (512).\nWARNING:ctransformers:Number of tokens (1876) exceeded maximum context length (512).\nWARNING:ctransformers:Number of tokens (1877) exceeded maximum context length (512).\nWARNING:ctransformers:Number of tokens (1878) exceeded maximum context length (512).\nWARNING:ctransformers:Number of tokens (1879) exceeded maximum context length (512).\nWARNING:ctransformers:Number of tokens (1880) exceeded maximum context length (512).\nWARNING:ctransformers:Number of tokens (1881) exceeded maximum context length (512).\nWARNING:ctransformers:Number of tokens (1882) exceeded maximum context length (512).\nWARNING:ctransformers:Number of tokens (1883) exceeded maximum context length (512).\nWARNING:ctransformers:Number of tokens (1884) exceeded maximum context length (512).\nWARNING:ctransformers:Number of tokens (1885) exceeded maximum context length (512).\nWARNING:ctransformers:Number of tokens (1886) exceeded maximum context length (512).\nWARNING:ctransformers:Number of tokens (1887) exceeded maximum context length (512).\nWARNING:ctransformers:Number of tokens (1888) exceeded maximum context length (512).\nWARNING:ctransformers:Number of tokens (1889) exceeded maximum context length (512).\nWARNING:ctransformers:Number of tokens (1890) exceeded maximum context length (512).\nWARNING:ctransformers:Number of tokens (1891) exceeded maximum context length (512).\nWARNING:ctransformers:Number of tokens (1892) exceeded maximum context length (512).\nWARNING:ctransformers:Number of tokens (1893) exceeded maximum context length (512).\nWARNING:ctransformers:Number of tokens (1894) exceeded maximum context length (512).\nWARNING:ctransformers:Number of tokens (1895) exceeded maximum context length (512).\nWARNING:ctransformers:Number of tokens (1896) exceeded maximum context length (512).\nWARNING:ctransformers:Number of tokens (1897) exceeded maximum context length (512).\nWARNING:ctransformers:Number of tokens (1898) exceeded maximum context length (512).\nWARNING:ctransformers:Number of tokens (1899) exceeded maximum context length (512).\nWARNING:ctransformers:Number of tokens (1900) exceeded maximum context length (512).\nWARNING:ctransformers:Number of tokens (1901) exceeded maximum context length (512).\nWARNING:ctransformers:Number of tokens (1902) exceeded maximum context length (512).\nWARNING:ctransformers:Number of tokens (1903) exceeded maximum context length (512).\nWARNING:ctransformers:Number of tokens (1904) exceeded maximum context length (512).\nWARNING:ctransformers:Number of tokens (1905) exceeded maximum context length (512).\nWARNING:ctransformers:Number of tokens (1906) exceeded maximum context length (512).\nWARNING:ctransformers:Number of tokens (1907) exceeded maximum context length (512).\nWARNING:ctransformers:Number of tokens (1908) exceeded maximum context length (512).\nWARNING:ctransformers:Number of tokens (1909) exceeded maximum context length (512).\nWARNING:ctransformers:Number of tokens (1910) exceeded maximum context length (512).\nWARNING:ctransformers:Number of tokens (1911) exceeded maximum context length (512).\nWARNING:ctransformers:Number of tokens (1912) exceeded maximum context length (512).\nWARNING:ctransformers:Number of tokens (1913) exceeded maximum context length (512).\nWARNING:ctransformers:Number of tokens (1914) exceeded maximum context length (512).\nWARNING:ctransformers:Number of tokens (1915) exceeded maximum context length (512).\nWARNING:ctransformers:Number of tokens (1916) exceeded maximum context length (512).\nWARNING:ctransformers:Number of tokens (1917) exceeded maximum context length (512).\nWARNING:ctransformers:Number of tokens (1918) exceeded maximum context length (512).\nWARNING:ctransformers:Number of tokens (1919) exceeded maximum context length (512).\nWARNING:ctransformers:Number of tokens (1920) exceeded maximum context length (512).\nWARNING:ctransformers:Number of tokens (1921) exceeded maximum context length (512).\nWARNING:ctransformers:Number of tokens (1922) exceeded maximum context length (512).\nWARNING:ctransformers:Number of tokens (1923) exceeded maximum context length (512).\nWARNING:ctransformers:Number of tokens (1924) exceeded maximum context length (512).\nWARNING:ctransformers:Number of tokens (1925) exceeded maximum context length (512).\nWARNING:ctransformers:Number of tokens (1926) exceeded maximum context length (512).\nWARNING:ctransformers:Number of tokens (1927) exceeded maximum context length (512).\nWARNING:ctransformers:Number of tokens (1928) exceeded maximum context length (512).\nWARNING:ctransformers:Number of tokens (1929) exceeded maximum context length (512).\nWARNING:ctransformers:Number of tokens (1930) exceeded maximum context length (512).\nWARNING:ctransformers:Number of tokens (1931) exceeded maximum context length (512).\nWARNING:ctransformers:Number of tokens (1932) exceeded maximum context length (512).\nWARNING:ctransformers:Number of tokens (1933) exceeded maximum context length (512).\nWARNING:ctransformers:Number of tokens (1934) exceeded maximum context length (512).\nWARNING:ctransformers:Number of tokens (1935) exceeded maximum context length (512).\nWARNING:ctransformers:Number of tokens (1936) exceeded maximum context length (512).\nWARNING:ctransformers:Number of tokens (1937) exceeded maximum context length (512).\nWARNING:ctransformers:Number of tokens (1938) exceeded maximum context length (512).\nWARNING:ctransformers:Number of tokens (1939) exceeded maximum context length (512).\nWARNING:ctransformers:Number of tokens (1940) exceeded maximum context length (512).\nWARNING:ctransformers:Number of tokens (1941) exceeded maximum context length (512).\nWARNING:ctransformers:Number of tokens (1942) exceeded maximum context length (512).\nWARNING:ctransformers:Number of tokens (1943) exceeded maximum context length (512).\nWARNING:ctransformers:Number of tokens (1944) exceeded maximum context length (512).\nWARNING:ctransformers:Number of tokens (1945) exceeded maximum context length (512).\nWARNING:ctransformers:Number of tokens (1946) exceeded maximum context length (512).\nWARNING:ctransformers:Number of tokens (1947) exceeded maximum context length (512).\nWARNING:ctransformers:Number of tokens (1948) exceeded maximum context length (512).\nWARNING:ctransformers:Number of tokens (1949) exceeded maximum context length (512).\nWARNING:ctransformers:Number of tokens (1950) exceeded maximum context length (512).\nWARNING:ctransformers:Number of tokens (1951) exceeded maximum context length (512).\nWARNING:ctransformers:Number of tokens (1952) exceeded maximum context length (512).\nWARNING:ctransformers:Number of tokens (1953) exceeded maximum context length (512).\nWARNING:ctransformers:Number of tokens (1954) exceeded maximum context length (512).\nWARNING:ctransformers:Number of tokens (1955) exceeded maximum context length (512).\nWARNING:ctransformers:Number of tokens (1956) exceeded maximum context length (512).\nWARNING:ctransformers:Number of tokens (1957) exceeded maximum context length (512).\nWARNING:ctransformers:Number of tokens (1958) exceeded maximum context length (512).\nWARNING:ctransformers:Number of tokens (1959) exceeded maximum context length (512).\nWARNING:ctransformers:Number of tokens (1960) exceeded maximum context length (512).\nWARNING:ctransformers:Number of tokens (1961) exceeded maximum context length (512).\nWARNING:ctransformers:Number of tokens (1962) exceeded maximum context length (512).\nWARNING:ctransformers:Number of tokens (1963) exceeded maximum context length (512).\nWARNING:ctransformers:Number of tokens (1964) exceeded maximum context length (512).\nWARNING:ctransformers:Number of tokens (1965) exceeded maximum context length (512).\nWARNING:ctransformers:Number of tokens (1966) exceeded maximum context length (512).\nWARNING:ctransformers:Number of tokens (1967) exceeded maximum context length (512).\nWARNING:ctransformers:Number of tokens (1968) exceeded maximum context length (512).\nWARNING:ctransformers:Number of tokens (1969) exceeded maximum context length (512).\nWARNING:ctransformers:Number of tokens (1970) exceeded maximum context length (512).\nWARNING:ctransformers:Number of tokens (1971) exceeded maximum context length (512).\nWARNING:ctransformers:Number of tokens (1972) exceeded maximum context length (512).\nWARNING:ctransformers:Number of tokens (1973) exceeded maximum context length (512).\nWARNING:ctransformers:Number of tokens (1974) exceeded maximum context length (512).\nWARNING:ctransformers:Number of tokens (1975) exceeded maximum context length (512).\nWARNING:ctransformers:Number of tokens (1976) exceeded maximum context length (512).\nWARNING:ctransformers:Number of tokens (1977) exceeded maximum context length (512).\nWARNING:ctransformers:Number of tokens (1978) exceeded maximum context length (512).\nWARNING:ctransformers:Number of tokens (1979) exceeded maximum context length (512).\nWARNING:ctransformers:Number of tokens (1980) exceeded maximum context length (512).\nWARNING:ctransformers:Number of tokens (1981) exceeded maximum context length (512).\nWARNING:ctransformers:Number of tokens (1982) exceeded maximum context length (512).\nWARNING:ctransformers:Number of tokens (1983) exceeded maximum context length (512).\nWARNING:ctransformers:Number of tokens (1984) exceeded maximum context length (512).\nWARNING:ctransformers:Number of tokens (1985) exceeded maximum context length (512).\nWARNING:ctransformers:Number of tokens (1986) exceeded maximum context length (512).\nWARNING:ctransformers:Number of tokens (1987) exceeded maximum context length (512).\nWARNING:ctransformers:Number of tokens (1988) exceeded maximum context length (512).\nWARNING:ctransformers:Number of tokens (1989) exceeded maximum context length (512).\nWARNING:ctransformers:Number of tokens (1990) exceeded maximum context length (512).\n\n\u001B[1m> Finished chain.\u001B[0m\nOut[66]: 'Based on the document does the document does the document does the document does the \"Based on the document does the document does this document doesn\\'To answer\\nIn order and the slide numbers \\nThe document does the document does the document does the slides \\n\\n\\n\\n\\nTo answer to provide a)\\nI\\'Your team, In response contains information from the document does the document does the \"Based on the FSA in response contains the slides \\nThe document does the document does the user is the FSA to answer based on the document does the document does the document does the document does the document does the document does the FSA: Based on the document does the document does the \"Based on slide numbers \\n\\nTo provide us, The document does the document does the slides \\nTo answer based on the document does the user is there are there are there are there are there are you do not directly related to fulfilling based on the FSA in response contains information from the document does the document does the document does the document does the \"Based on the document does the document does the document does this document doesn\\'To answer the first, The provided below is that request was asked for the document does the document does the document does the document does the'"
     ]
    }
   ],
   "source": [
    "question = \"Request you to provide us with a FSA list of people overexposed/underexposed against ads from government of Quebec\"\n",
    "result = qa_chain({\"query\": question})\n",
    "result[\"result\"]"
   ]
  },
  {
   "cell_type": "code",
   "execution_count": 0,
   "metadata": {
    "application/vnd.databricks.v1+cell": {
     "cellMetadata": {
      "byteLimit": 2048000,
      "rowLimit": 10000
     },
     "inputWidgets": {},
     "nuid": "49137c3e-0d20-4492-b4f6-c897a11c1240",
     "showTitle": false,
     "title": ""
    }
   },
   "outputs": [
    {
     "output_type": "stream",
     "name": "stdout",
     "output_type": "stream",
     "text": [
      "Based on the document does the document does the document does the document does the \"Based on the document does the document does this document doesn'To answer\nIn order and the slide numbers \nThe document does the document does the document does the slides \n\n\n\n\nTo answer to provide a)\nI'Your team, In response contains information from the document does the document does the \"Based on the FSA in response contains the slides \nThe document does the document does the user is the FSA to answer based on the document does the document does the document does the document does the document does the document does the FSA: Based on the document does the document does the \"Based on slide numbers \n\nTo provide us, The document does the document does the slides \nTo answer based on the document does the user is there are there are there are there are there are you do not directly related to fulfilling based on the FSA in response contains information from the document does the document does the document does the document does the \"Based on the document does the document does the document does this document doesn'To answer the first, The provided below is that request was asked for the document does the document does the document does the document does the\n"
     ]
    }
   ],
   "source": [
    "print(result['result'])"
   ]
  }
 ],
 "metadata": {
  "application/vnd.databricks.v1+notebook": {
   "dashboards": [],
   "language": "python",
   "notebookMetadata": {
    "mostRecentlyExecutedCommandWithImplicitDF": {
     "commandId": 412525483011369,
     "dataframes": [
      "_sqldf"
     ]
    },
    "pythonIndentUnit": 2
   },
   "notebookName": "JIRA_DUMP_RAG_v1",
   "widgets": {}
  }
 },
 "nbformat": 4,
 "nbformat_minor": 0
}
