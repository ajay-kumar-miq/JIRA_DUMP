{
 "cells": [
  {
   "cell_type": "code",
   "execution_count": 0,
   "metadata": {
    "application/vnd.databricks.v1+cell": {
     "cellMetadata": {
      "byteLimit": 2048000,
      "rowLimit": 10000
     },
     "inputWidgets": {},
     "nuid": "c682f53e-8ca6-4dc8-aaf3-be49870a35cf",
     "showTitle": false,
     "title": ""
    }
   },
   "outputs": [
    {
     "output_type": "stream",
     "name": "stdout",
     "output_type": "stream",
     "text": [
      "Python interpreter will be restarted.\nERROR: pip's dependency resolver does not currently take into account all the packages that are installed. This behaviour is the source of the following dependency conflicts.\nqpd 0.4.4 requires antlr4-python3-runtime<4.12,>=4.11.1, but you have antlr4-python3-runtime 4.9.3 which is incompatible.\nhttpx 0.13.3 requires idna==2.*, but you have idna 3.6 which is incompatible.\nbotocore 1.34.34 requires urllib3<1.27,>=1.25.4; python_version < \"3.10\", but you have urllib3 2.2.0 which is incompatible.\nboto3 1.21.18 requires botocore<1.25.0,>=1.24.18, but you have botocore 1.34.34 which is incompatible.\nPython interpreter will be restarted.\n"
     ]
    }
   ],
   "source": [
    "# INSTALLS\n",
    "%pip install langchain accelerate transformers ctransformers PyPDF2 pymupdf unstructured[pdf] faiss-cpu -q\n",
    "dbutils.library.restartPython()"
   ]
  },
  {
   "cell_type": "code",
   "execution_count": 0,
   "metadata": {
    "application/vnd.databricks.v1+cell": {
     "cellMetadata": {
      "byteLimit": 2048000,
      "rowLimit": 10000
     },
     "inputWidgets": {},
     "nuid": "dd0040a9-9a6c-46b4-932f-6e95d0ce4fe2",
     "showTitle": false,
     "title": ""
    }
   },
   "outputs": [],
   "source": [
    "# IMPORTS\n",
    "import os\n",
    "from langchain.llms import CTransformers\n",
    "from langchain import PromptTemplate, LLMChain\n",
    "import boto3\n",
    "from PyPDF2 import PdfReader\n",
    "from io import BytesIO\n",
    "from langchain.embeddings import HuggingFaceEmbeddings\n",
    "from langchain.vectorstores import FAISS\n",
    "from langchain.document_loaders import PyPDFLoader, PyMuPDFLoader, S3FileLoader\n",
    "from langchain.retrievers import BM25Retriever\n",
    "from langchain.text_splitter import RecursiveCharacterTextSplitter \n",
    "import pickle\n",
    "from langchain.chains import RetrievalQA"
   ]
  },
  {
   "cell_type": "code",
   "execution_count": 0,
   "metadata": {
    "application/vnd.databricks.v1+cell": {
     "cellMetadata": {
      "byteLimit": 2048000,
      "rowLimit": 10000
     },
     "inputWidgets": {},
     "nuid": "548c1510-9cef-4caa-b0a0-c13e0a4cf365",
     "showTitle": false,
     "title": ""
    }
   },
   "outputs": [],
   "source": [
    "MODEL_NAME = 'TheBloke/Mistral-7B-Instruct-v0.2-GGUF'\n",
    "MODEL_FILE_NAME = 'mistral-7b-instruct-v0.2.Q6_K.gguf'\n",
    "MODEL_FOLDER_NAME = 'models--TheBloke--Mistral-7B-Instruct-v0.2-GGUF'\n",
    "MAX_NEW_TOKENS = 1024\n",
    "CACHE_DIR = '/Workspace/Users/ajay.kumar@miqdigital.com/models'\n",
    "TEMP = 0.2\n",
    "MODEL_FILE_PATH = os.path.join(CACHE_DIR, MODEL_FOLDER_NAME)"
   ]
  },
  {
   "cell_type": "code",
   "execution_count": 0,
   "metadata": {
    "application/vnd.databricks.v1+cell": {
     "cellMetadata": {
      "byteLimit": 2048000,
      "rowLimit": 10000
     },
     "inputWidgets": {},
     "nuid": "abc1d6b6-6776-4fcd-9291-3ae21ad75f0d",
     "showTitle": false,
     "title": ""
    }
   },
   "outputs": [
    {
     "output_type": "display_data",
     "data": {
      "application/vnd.jupyter.widget-view+json": {
       "model_id": "860631c7a04c46ef846aeb9735a2fe1b",
       "version_major": 2,
       "version_minor": 0
      },
      "text/plain": [
       "Fetching 1 files:   0%|          | 0/1 [00:00<?, ?it/s]"
      ]
     },
     "metadata": {},
     "output_type": "display_data"
    },
    {
     "output_type": "display_data",
     "data": {
      "application/vnd.jupyter.widget-view+json": {
       "model_id": "774b4cc5c5c34803a6a065463f03bc86",
       "version_major": 2,
       "version_minor": 0
      },
      "text/plain": [
       "Fetching 1 files:   0%|          | 0/1 [00:00<?, ?it/s]"
      ]
     },
     "metadata": {},
     "output_type": "display_data"
    }
   ],
   "source": [
    "llm = CTransformers(\n",
    "        model = MODEL_NAME,\n",
    "        model_file = MODEL_FILE_NAME,\n",
    "        max_new_tokens = MAX_NEW_TOKENS,\n",
    "        temperature = TEMP\n",
    "    )"
   ]
  },
  {
   "cell_type": "code",
   "execution_count": 0,
   "metadata": {
    "application/vnd.databricks.v1+cell": {
     "cellMetadata": {
      "byteLimit": 2048000,
      "rowLimit": 10000
     },
     "inputWidgets": {},
     "nuid": "f742d099-0406-426f-911a-863436c0664e",
     "showTitle": false,
     "title": ""
    }
   },
   "outputs": [],
   "source": [
    "bucket_name =\"prod-ai-and-automation\"\n",
    "item_name = \"proj_pptrag_jiradump_ppts/inputdocs/processed_jiradump_docformat.pdf\"\n",
    "SOURCE_DIR = \"/Workspace/Users/ajay.kumar@miqdigital.com/inputdocs/processed_jiradump.csv\""
   ]
  },
  {
   "cell_type": "code",
   "execution_count": 0,
   "metadata": {
    "application/vnd.databricks.v1+cell": {
     "cellMetadata": {
      "byteLimit": 2048000,
      "rowLimit": 10000
     },
     "inputWidgets": {},
     "nuid": "a33f02b1-80e8-470b-a826-779061221b80",
     "showTitle": false,
     "title": ""
    }
   },
   "outputs": [],
   "source": [
    "import pandas as pd\n",
    "df = pd.read_csv(SOURCE_DIR)"
   ]
  },
  {
   "cell_type": "code",
   "execution_count": 0,
   "metadata": {
    "application/vnd.databricks.v1+cell": {
     "cellMetadata": {
      "byteLimit": 2048000,
      "rowLimit": 10000
     },
     "inputWidgets": {},
     "nuid": "fb5ef876-37e2-45cf-8595-9b8dd77f4da4",
     "showTitle": false,
     "title": ""
    }
   },
   "outputs": [
    {
     "output_type": "display_data",
     "data": {
      "text/html": [
       "<div>\n",
       "<style scoped>\n",
       "    .dataframe tbody tr th:only-of-type {\n",
       "        vertical-align: middle;\n",
       "    }\n",
       "\n",
       "    .dataframe tbody tr th {\n",
       "        vertical-align: top;\n",
       "    }\n",
       "\n",
       "    .dataframe thead th {\n",
       "        text-align: right;\n",
       "    }\n",
       "</style>\n",
       "<table border=\"1\" class=\"dataframe\">\n",
       "  <thead>\n",
       "    <tr style=\"text-align: right;\">\n",
       "      <th></th>\n",
       "      <th>Unnamed: 0</th>\n",
       "      <th>Issue key</th>\n",
       "      <th>Description</th>\n",
       "      <th>Module_list</th>\n",
       "      <th>SubModule_list</th>\n",
       "    </tr>\n",
       "  </thead>\n",
       "  <tbody>\n",
       "    <tr>\n",
       "      <th>0</th>\n",
       "      <td>0</td>\n",
       "      <td>CCM-5501</td>\n",
       "      <td>NaN</td>\n",
       "      <td>NaN</td>\n",
       "      <td>[{'slide_number': 1, 'slide_text': 'Cavendish ...</td>\n",
       "    </tr>\n",
       "    <tr>\n",
       "      <th>1</th>\n",
       "      <td>1</td>\n",
       "      <td>CCM-5500</td>\n",
       "      <td>NaN</td>\n",
       "      <td>NaN</td>\n",
       "      <td>[{'slide_number': 1, 'slide_text': 'ATV POST-C...</td>\n",
       "    </tr>\n",
       "    <tr>\n",
       "      <th>2</th>\n",
       "      <td>2</td>\n",
       "      <td>CCM-5427</td>\n",
       "      <td>Hi team, \\n\\nRequest you to provide us with a ...</td>\n",
       "      <td>NaN</td>\n",
       "      <td>[{'slide_number': 1, 'slide_text': 'ATV POST-C...</td>\n",
       "    </tr>\n",
       "    <tr>\n",
       "      <th>3</th>\n",
       "      <td>3</td>\n",
       "      <td>CCM-5425</td>\n",
       "      <td>Hey Team! Looking to receive the following in ...</td>\n",
       "      <td>NaN</td>\n",
       "      <td>[{'slide_number': 1, 'slide_text': 'POST - CAM...</td>\n",
       "    </tr>\n",
       "    <tr>\n",
       "      <th>4</th>\n",
       "      <td>4</td>\n",
       "      <td>CCM-5424</td>\n",
       "      <td>Hi team,\\n\\n\\nRequest you to please help us wi...</td>\n",
       "      <td>['OLV', 'CTV']</td>\n",
       "      <td>[{'slide_number': 1, 'slide_text': 'EDITABLE T...</td>\n",
       "    </tr>\n",
       "  </tbody>\n",
       "</table>\n",
       "</div>"
      ]
     },
     "metadata": {
      "application/vnd.databricks.v1+output": {
       "addedWidgets": {},
       "arguments": {},
       "data": "<div>\n<style scoped>\n    .dataframe tbody tr th:only-of-type {\n        vertical-align: middle;\n    }\n\n    .dataframe tbody tr th {\n        vertical-align: top;\n    }\n\n    .dataframe thead th {\n        text-align: right;\n    }\n</style>\n<table border=\"1\" class=\"dataframe\">\n  <thead>\n    <tr style=\"text-align: right;\">\n      <th></th>\n      <th>Unnamed: 0</th>\n      <th>Issue key</th>\n      <th>Description</th>\n      <th>Module_list</th>\n      <th>SubModule_list</th>\n    </tr>\n  </thead>\n  <tbody>\n    <tr>\n      <th>0</th>\n      <td>0</td>\n      <td>CCM-5501</td>\n      <td>NaN</td>\n      <td>NaN</td>\n      <td>[{'slide_number': 1, 'slide_text': 'Cavendish ...</td>\n    </tr>\n    <tr>\n      <th>1</th>\n      <td>1</td>\n      <td>CCM-5500</td>\n      <td>NaN</td>\n      <td>NaN</td>\n      <td>[{'slide_number': 1, 'slide_text': 'ATV POST-C...</td>\n    </tr>\n    <tr>\n      <th>2</th>\n      <td>2</td>\n      <td>CCM-5427</td>\n      <td>Hi team, \\n\\nRequest you to provide us with a ...</td>\n      <td>NaN</td>\n      <td>[{'slide_number': 1, 'slide_text': 'ATV POST-C...</td>\n    </tr>\n    <tr>\n      <th>3</th>\n      <td>3</td>\n      <td>CCM-5425</td>\n      <td>Hey Team! Looking to receive the following in ...</td>\n      <td>NaN</td>\n      <td>[{'slide_number': 1, 'slide_text': 'POST - CAM...</td>\n    </tr>\n    <tr>\n      <th>4</th>\n      <td>4</td>\n      <td>CCM-5424</td>\n      <td>Hi team,\\n\\n\\nRequest you to please help us wi...</td>\n      <td>['OLV', 'CTV']</td>\n      <td>[{'slide_number': 1, 'slide_text': 'EDITABLE T...</td>\n    </tr>\n  </tbody>\n</table>\n</div>",
       "datasetInfos": [],
       "metadata": {},
       "removedWidgets": [],
       "textData": null,
       "type": "htmlSandbox"
      }
     },
     "output_type": "display_data"
    }
   ],
   "source": [
    "df.head()"
   ]
  },
  {
   "cell_type": "code",
   "execution_count": 0,
   "metadata": {
    "application/vnd.databricks.v1+cell": {
     "cellMetadata": {
      "byteLimit": 2048000,
      "rowLimit": 10000
     },
     "inputWidgets": {},
     "nuid": "6137d51f-88df-43d4-b0de-0ec506a9e544",
     "showTitle": false,
     "title": ""
    }
   },
   "outputs": [],
   "source": [
    "template = \"\"\"\n",
    "You are a transcriber for my documents. I will give you the requirements of an Account Manager during an ad campaign, and the deliverables of the DnA Team in the form of a PPT. Your job is to transcribe the deliverables of the team in the sequence of slides for which the \"slide_text\" are mentioned.\n",
    "\n",
    "The format of the ppt is like this : 'slide_number' and 'slide_text'.\n",
    "\n",
    "Account Manager's requirement : {requirement}\n",
    "\n",
    "PPT Deliverable : {deliverable}\n",
    "\n",
    "For each 'slide_number' please summarize the 'slide_text'\n",
    "\n",
    "\"\"\""
   ]
  },
  {
   "cell_type": "code",
   "execution_count": 0,
   "metadata": {
    "application/vnd.databricks.v1+cell": {
     "cellMetadata": {
      "byteLimit": 2048000,
      "rowLimit": 10000
     },
     "inputWidgets": {},
     "nuid": "373fb764-b75f-4798-a2ef-ce9ad7e8bd21",
     "showTitle": false,
     "title": ""
    }
   },
   "outputs": [],
   "source": [
    "prompt = PromptTemplate(template=template, input_variables=['requirement','deliverable'])"
   ]
  },
  {
   "cell_type": "code",
   "execution_count": 0,
   "metadata": {
    "application/vnd.databricks.v1+cell": {
     "cellMetadata": {
      "byteLimit": 2048000,
      "rowLimit": 10000
     },
     "inputWidgets": {},
     "nuid": "756f3679-6754-447c-bad0-7af681addb44",
     "showTitle": false,
     "title": ""
    }
   },
   "outputs": [],
   "source": [
    "chain = LLMChain(prompt=prompt, llm=llm)"
   ]
  },
  {
   "cell_type": "code",
   "execution_count": 0,
   "metadata": {
    "application/vnd.databricks.v1+cell": {
     "cellMetadata": {
      "byteLimit": 2048000,
      "rowLimit": 10000
     },
     "inputWidgets": {},
     "nuid": "b1c172a3-3178-4784-a731-4a9a137193a6",
     "showTitle": false,
     "title": ""
    }
   },
   "outputs": [],
   "source": [
    "req = \"Request you to provide us with a FSA list of people overexposed/underexposed against ads from government of Quebec?\"\n",
    "\n",
    "deliver = \"\"\"[{'slide_number': 1, 'slide_text': 'ATV POST-CAMPAIGN INSIGHTS Maple Leaf 18/09/2023 to 07/12/2023'}, {'slide_number': 2, 'slide_text': 'CTV Performance'}, {'slide_number': 3, 'slide_text': 'CAMPAIGN Households reached Video Completion Rate (VCR) 976,874 90,987 98% Advanced TV with ACR Impressions Performance Summary'}, {'slide_number': 4, 'slide_text': 'CTV Campaign Insights'}, {'slide_number': 5, 'slide_text': 'Incremental Reach for CTV The CTV campaign helped drive an additional 30.15% Incremental Reach on CTV.}, {'slide_number': 6, 'slide_text': 'Potential Reach Comparison *Projected to Number of CTV HHs in Canada: 6.5M\\n**Projected to CA LTV households: 7.7M (Source: Environics)}]\"\"\""
   ]
  },
  {
   "cell_type": "code",
   "execution_count": 0,
   "metadata": {
    "application/vnd.databricks.v1+cell": {
     "cellMetadata": {
      "byteLimit": 2048000,
      "rowLimit": 10000
     },
     "inputWidgets": {},
     "nuid": "b5496b48-c2bf-4978-bfb4-6de1039a4cf0",
     "showTitle": false,
     "title": ""
    }
   },
   "outputs": [
    {
     "output_type": "stream",
     "name": "stdout",
     "output_type": "stream",
     "text": [
      "Number of tokens (513) exceeded maximum context length (512).\nNumber of tokens (514) exceeded maximum context length (512).\nNumber of tokens (515) exceeded maximum context length (512).\nNumber of tokens (516) exceeded maximum context length (512).\nNumber of tokens (517) exceeded maximum context length (512).\nNumber of tokens (518) exceeded maximum context length (512).\nNumber of tokens (519) exceeded maximum context length (512).\nNumber of tokens (520) exceeded maximum context length (512).\nNumber of tokens (521) exceeded maximum context length (512).\nNumber of tokens (522) exceeded maximum context length (512).\nNumber of tokens (523) exceeded maximum context length (512).\nNumber of tokens (524) exceeded maximum context length (512).\nNumber of tokens (525) exceeded maximum context length (512).\nNumber of tokens (526) exceeded maximum context length (512).\nNumber of tokens (527) exceeded maximum context length (512).\nNumber of tokens (528) exceeded maximum context length (512).\nNumber of tokens (529) exceeded maximum context length (512).\nNumber of tokens (530) exceeded maximum context length (512).\nNumber of tokens (531) exceeded maximum context length (512).\nNumber of tokens (532) exceeded maximum context length (512).\nNumber of tokens (533) exceeded maximum context length (512).\nNumber of tokens (534) exceeded maximum context length (512).\nNumber of tokens (535) exceeded maximum context length (512).\nNumber of tokens (536) exceeded maximum context length (512).\nNumber of tokens (537) exceeded maximum context length (512).\nNumber of tokens (538) exceeded maximum context length (512).\nNumber of tokens (539) exceeded maximum context length (512).\nNumber of tokens (540) exceeded maximum context length (512).\nNumber of tokens (541) exceeded maximum context length (512).\nNumber of tokens (542) exceeded maximum context length (512).\nNumber of tokens (543) exceeded maximum context length (512).\nNumber of tokens (544) exceeded maximum context length (512).\nNumber of tokens (545) exceeded maximum context length (512).\nNumber of tokens (546) exceeded maximum context length (512).\nNumber of tokens (547) exceeded maximum context length (512).\nNumber of tokens (548) exceeded maximum context length (512).\nNumber of tokens (549) exceeded maximum context length (512).\nNumber of tokens (550) exceeded maximum context length (512).\nNumber of tokens (551) exceeded maximum context length (512).\nNumber of tokens (552) exceeded maximum context length (512).\nNumber of tokens (553) exceeded maximum context length (512).\nNumber of tokens (554) exceeded maximum context length (512).\nNumber of tokens (555) exceeded maximum context length (512).\nNumber of tokens (556) exceeded maximum context length (512).\nNumber of tokens (557) exceeded maximum context length (512).\nNumber of tokens (558) exceeded maximum context length (512).\nNumber of tokens (559) exceeded maximum context length (512).\nNumber of tokens (560) exceeded maximum context length (512).\nNumber of tokens (561) exceeded maximum context length (512).\nNumber of tokens (562) exceeded maximum context length (512).\nNumber of tokens (563) exceeded maximum context length (512).\nNumber of tokens (564) exceeded maximum context length (512).\nNumber of tokens (565) exceeded maximum context length (512).\nNumber of tokens (566) exceeded maximum context length (512).\nNumber of tokens (567) exceeded maximum context length (512).\nNumber of tokens (568) exceeded maximum context length (512).\nNumber of tokens (569) exceeded maximum context length (512).\nNumber of tokens (570) exceeded maximum context length (512).\nNumber of tokens (571) exceeded maximum context length (512).\nNumber of tokens (572) exceeded maximum context length (512).\nNumber of tokens (573) exceeded maximum context length (512).\nNumber of tokens (574) exceeded maximum context length (512).\nNumber of tokens (575) exceeded maximum context length (512).\nNumber of tokens (576) exceeded maximum context length (512).\nNumber of tokens (577) exceeded maximum context length (512).\nNumber of tokens (578) exceeded maximum context length (512).\nNumber of tokens (579) exceeded maximum context length (512).\nNumber of tokens (580) exceeded maximum context length (512).\nNumber of tokens (581) exceeded maximum context length (512).\nNumber of tokens (582) exceeded maximum context length (512).\nNumber of tokens (583) exceeded maximum context length (512).\nNumber of tokens (584) exceeded maximum context length (512).\nNumber of tokens (585) exceeded maximum context length (512).\nNumber of tokens (586) exceeded maximum context length (512).\nNumber of tokens (587) exceeded maximum context length (512).\nNumber of tokens (588) exceeded maximum context length (512).\nNumber of tokens (589) exceeded maximum context length (512).\nNumber of tokens (590) exceeded maximum context length (512).\nNumber of tokens (591) exceeded maximum context length (512).\nNumber of tokens (592) exceeded maximum context length (512).\nNumber of tokens (593) exceeded maximum context length (512).\nNumber of tokens (594) exceeded maximum context length (512).\nNumber of tokens (595) exceeded maximum context length (512).\nNumber of tokens (596) exceeded maximum context length (512).\nNumber of tokens (597) exceeded maximum context length (512).\nNumber of tokens (598) exceeded maximum context length (512).\nNumber of tokens (599) exceeded maximum context length (512).\nNumber of tokens (600) exceeded maximum context length (512).\nNumber of tokens (601) exceeded maximum context length (512).\nNumber of tokens (602) exceeded maximum context length (512).\nNumber of tokens (603) exceeded maximum context length (512).\nNumber of tokens (604) exceeded maximum context length (512).\nNumber of tokens (605) exceeded maximum context length (512).\nNumber of tokens (606) exceeded maximum context length (512).\nNumber of tokens (607) exceeded maximum context length (512).\nNumber of tokens (608) exceeded maximum context length (512).\nNumber of tokens (609) exceeded maximum context length (512).\nNumber of tokens (610) exceeded maximum context length (512).\nNumber of tokens (611) exceeded maximum context length (512).\nNumber of tokens (612) exceeded maximum context length (512).\nNumber of tokens (613) exceeded maximum context length (512).\nNumber of tokens (614) exceeded maximum context length (512).\nNumber of tokens (615) exceeded maximum context length (512).\nNumber of tokens (616) exceeded maximum context length (512).\nNumber of tokens (617) exceeded maximum context length (512).\nNumber of tokens (618) exceeded maximum context length (512).\nNumber of tokens (619) exceeded maximum context length (512).\nNumber of tokens (620) exceeded maximum context length (512).\nNumber of tokens (621) exceeded maximum context length (512).\nNumber of tokens (622) exceeded maximum context length (512).\nNumber of tokens (623) exceeded maximum context length (512).\nNumber of tokens (624) exceeded maximum context length (512).\nNumber of tokens (625) exceeded maximum context length (512).\nNumber of tokens (626) exceeded maximum context length (512).\nNumber of tokens (627) exceeded maximum context length (512).\nNumber of tokens (628) exceeded maximum context length (512).\nNumber of tokens (629) exceeded maximum context length (512).\nNumber of tokens (630) exceeded maximum context length (512).\nNumber of tokens (631) exceeded maximum context length (512).\nNumber of tokens (632) exceeded maximum context length (512).\nNumber of tokens (633) exceeded maximum context length (512).\nNumber of tokens (634) exceeded maximum context length (512).\nNumber of tokens (635) exceeded maximum context length (512).\nNumber of tokens (636) exceeded maximum context length (512).\nNumber of tokens (637) exceeded maximum context length (512).\nNumber of tokens (638) exceeded maximum context length (512).\nNumber of tokens (639) exceeded maximum context length (512).\nNumber of tokens (640) exceeded maximum context length (512).\nNumber of tokens (641) exceeded maximum context length (512).\nNumber of tokens (642) exceeded maximum context length (512).\nNumber of tokens (643) exceeded maximum context length (512).\nNumber of tokens (644) exceeded maximum context length (512).\nNumber of tokens (645) exceeded maximum context length (512).\nNumber of tokens (646) exceeded maximum context length (512).\nNumber of tokens (647) exceeded maximum context length (512).\nNumber of tokens (648) exceeded maximum context length (512).\nNumber of tokens (649) exceeded maximum context length (512).\nNumber of tokens (650) exceeded maximum context length (512).\nNumber of tokens (651) exceeded maximum context length (512).\nNumber of tokens (652) exceeded maximum context length (512).\nNumber of tokens (653) exceeded maximum context length (512).\nNumber of tokens (654) exceeded maximum context length (512).\nNumber of tokens (655) exceeded maximum context length (512).\nNumber of tokens (656) exceeded maximum context length (512).\nNumber of tokens (657) exceeded maximum context length (512).\nNumber of tokens (658) exceeded maximum context length (512).\nNumber of tokens (659) exceeded maximum context length (512).\nNumber of tokens (660) exceeded maximum context length (512).\nNumber of tokens (661) exceeded maximum context length (512).\nNumber of tokens (662) exceeded maximum context length (512).\nNumber of tokens (663) exceeded maximum context length (512).\nNumber of tokens (664) exceeded maximum context length (512).\nNumber of tokens (665) exceeded maximum context length (512).\nNumber of tokens (666) exceeded maximum context length (512).\nNumber of tokens (667) exceeded maximum context length (512).\nNumber of tokens (668) exceeded maximum context length (512).\nNumber of tokens (669) exceeded maximum context length (512).\nNumber of tokens (670) exceeded maximum context length (512).\nNumber of tokens (671) exceeded maximum context length (512).\nNumber of tokens (672) exceeded maximum context length (512).\nNumber of tokens (673) exceeded maximum context length (512).\nNumber of tokens (674) exceeded maximum context length (512).\nNumber of tokens (675) exceeded maximum context length (512).\nNumber of tokens (676) exceeded maximum context length (512).\nNumber of tokens (677) exceeded maximum context length (512).\nNumber of tokens (678) exceeded maximum context length (512).\nNumber of tokens (679) exceeded maximum context length (512).\n"
     ]
    }
   ],
   "source": [
    "response = chain.invoke({'requirement': req, 'deliverable': deliver})"
   ]
  },
  {
   "cell_type": "code",
   "execution_count": 0,
   "metadata": {
    "application/vnd.databricks.v1+cell": {
     "cellMetadata": {
      "byteLimit": 2048000,
      "rowLimit": 10000
     },
     "inputWidgets": {},
     "nuid": "14038b35-79c2-4375-afa8-137632c8ba1b",
     "showTitle": false,
     "title": ""
    }
   },
   "outputs": [
    {
     "output_type": "stream",
     "name": "stdout",
     "output_type": "stream",
     "text": [
      "Slide 1: The post-campaign insights for ATV from Maple Leaf, between September 18, 2023 and December 7, 2023.\n\nSlide 2: Insights on the performance of CTV ads.\n\nSlide 3: Summary of the Campaign's Advanced TV performance with ACR Impressions, where 976,874787878787878787878787878787878787878787878787878787878787879878787878787878747878787878787878787878787878787878787878787878787878787878787878747878787878787878787878\n"
     ]
    }
   ],
   "source": [
    "print(response['text'])"
   ]
  },
  {
   "cell_type": "code",
   "execution_count": 0,
   "metadata": {
    "application/vnd.databricks.v1+cell": {
     "cellMetadata": {},
     "inputWidgets": {},
     "nuid": "cc254da6-24b6-4543-b6f1-f748b8f1734f",
     "showTitle": false,
     "title": ""
    }
   },
   "outputs": [],
   "source": []
  }
 ],
 "metadata": {
  "application/vnd.databricks.v1+notebook": {
   "dashboards": [],
   "language": "python",
   "notebookMetadata": {
    "pythonIndentUnit": 2
   },
   "notebookName": "JIRA_DUMP_PROMPT_v1",
   "widgets": {}
  }
 },
 "nbformat": 4,
 "nbformat_minor": 0
}
